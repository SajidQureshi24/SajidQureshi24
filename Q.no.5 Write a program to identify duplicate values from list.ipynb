{
 "cells": [
  {
   "cell_type": "code",
   "execution_count": 7,
   "id": "0178e836",
   "metadata": {},
   "outputs": [
    {
     "name": "stdout",
     "output_type": "stream",
     "text": [
      "[1, 2, 3, 4, 5, 3, 4, 2, 5, 6, 7, 8]\n",
      "Does not have a Duplicate Numbers [1, 6, 7, 8]\n",
      "It Have Duplicate Numbers duplicate Number [3, 4, 2, 5]\n"
     ]
    }
   ],
   "source": [
    "list = [1,2,3,4,5,3,4,2,5,6,7,8]\n",
    "notDuplicateList = []\n",
    "duplicateList = []\n",
    "for a in list:\n",
    "    if not a in notDuplicateList:\n",
    "        notDuplicateList.append(a);\n",
    "    else:\n",
    "        duplicateList.append(a);\n",
    "        notDuplicateList.remove(a);\n",
    "print(list)\n",
    "print(\"Does not have a Duplicate Numbers\",notDuplicateList)\n",
    "print(\"It Have Duplicate Numbers duplicate Number\",duplicateList)"
   ]
  },
  {
   "cell_type": "code",
   "execution_count": null,
   "id": "b79cb0b2",
   "metadata": {},
   "outputs": [],
   "source": []
  },
  {
   "cell_type": "code",
   "execution_count": null,
   "id": "6458e12f",
   "metadata": {},
   "outputs": [],
   "source": []
  }
 ],
 "metadata": {
  "kernelspec": {
   "display_name": "Python 3",
   "language": "python",
   "name": "python3"
  },
  "language_info": {
   "codemirror_mode": {
    "name": "ipython",
    "version": 3
   },
   "file_extension": ".py",
   "mimetype": "text/x-python",
   "name": "python",
   "nbconvert_exporter": "python",
   "pygments_lexer": "ipython3",
   "version": "3.8.8"
  }
 },
 "nbformat": 4,
 "nbformat_minor": 5
}
