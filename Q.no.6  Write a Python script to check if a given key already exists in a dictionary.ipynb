{
 "cells": [
  {
   "cell_type": "code",
   "execution_count": 4,
   "id": "60eb81f7",
   "metadata": {},
   "outputs": [
    {
     "name": "stdout",
     "output_type": "stream",
     "text": [
      "Enter a number to check is key already exist of not?4\n",
      "Key  4  is present.\n",
      "do you want to check again? (yes/no): y\n",
      "Enter a number to check is key already exist of not?10\n",
      "Key  10  does not present\n",
      "do you want to check again? (yes/no): n\n"
     ]
    }
   ],
   "source": [
    "List = {1: 10, 2: 20, 3: 30, 4: 40, 5: 50, 6: 60}\n",
    "def is_key_present(no):\n",
    " \n",
    "  if no in List:\n",
    "      print('Key ',no,' is present.')\n",
    "  else:\n",
    "        print('Key ',no,' does not present');\n",
    "    \n",
    "  \n",
    "\n",
    "while(True):\n",
    "    no = int(input(\"Enter a number to check is key already exist of not?\"))\n",
    "    is_key_present(no);\n",
    "    choice = input(\"do you want to check again? (yes/no): \")\n",
    "    if choice == \"no\" or choice=='n':\n",
    "        break;\n"
   ]
  },
  {
   "cell_type": "code",
   "execution_count": null,
   "id": "1320b9d3",
   "metadata": {},
   "outputs": [],
   "source": []
  }
 ],
 "metadata": {
  "kernelspec": {
   "display_name": "Python 3",
   "language": "python",
   "name": "python3"
  },
  "language_info": {
   "codemirror_mode": {
    "name": "ipython",
    "version": 3
   },
   "file_extension": ".py",
   "mimetype": "text/x-python",
   "name": "python",
   "nbconvert_exporter": "python",
   "pygments_lexer": "ipython3",
   "version": "3.8.8"
  }
 },
 "nbformat": 4,
 "nbformat_minor": 5
}
