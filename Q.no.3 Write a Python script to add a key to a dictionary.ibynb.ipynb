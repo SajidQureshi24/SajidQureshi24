{
 "cells": [
  {
   "cell_type": "code",
   "execution_count": 6,
   "id": "299ac903",
   "metadata": {},
   "outputs": [
    {
     "name": "stdout",
     "output_type": "stream",
     "text": [
      "{71: 'Sajid', 56: 'Mubbashir', 72: 'Shahzaib'}\n",
      "{71: 'Sajid', 56: 'Mubbashir', 72: 'Shahzaib', 74: 'Waqas Malik'}\n"
     ]
    }
   ],
   "source": [
    "rollNos = {71:'Sajid', 56:'Mubbashir',72:'Shahzaib'}\n",
    "print(rollNos)\n",
    "rollNos[74]='Waqas Malik'\n",
    "print(rollNos)"
   ]
  },
  {
   "cell_type": "code",
   "execution_count": null,
   "id": "cdfb071c",
   "metadata": {},
   "outputs": [],
   "source": []
  },
  {
   "cell_type": "code",
   "execution_count": null,
   "id": "fc6c6fd4",
   "metadata": {},
   "outputs": [],
   "source": []
  }
 ],
 "metadata": {
  "kernelspec": {
   "display_name": "Python 3",
   "language": "python",
   "name": "python3"
  },
  "language_info": {
   "codemirror_mode": {
    "name": "ipython",
    "version": 3
   },
   "file_extension": ".py",
   "mimetype": "text/x-python",
   "name": "python",
   "nbconvert_exporter": "python",
   "pygments_lexer": "ipython3",
   "version": "3.8.8"
  }
 },
 "nbformat": 4,
 "nbformat_minor": 5
}
